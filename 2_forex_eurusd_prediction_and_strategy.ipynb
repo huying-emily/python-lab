{
  "nbformat": 4,
  "nbformat_minor": 0,
  "metadata": {
    "kernelspec": {
      "display_name": "Python 3",
      "language": "python",
      "name": "python3"
    },
    "language_info": {
      "codemirror_mode": {
        "name": "ipython",
        "version": 3
      },
      "file_extension": ".py",
      "mimetype": "text/x-python",
      "name": "python",
      "nbconvert_exporter": "python",
      "pygments_lexer": "ipython3",
      "version": "3.6.8"
    },
    "colab": {
      "name": "2 forex eurusd prediction and strategy.ipynb",
      "provenance": []
    }
  },
  "cells": [
    {
      "cell_type": "markdown",
      "metadata": {
        "id": "uc4f4bFG_ICp",
        "colab_type": "text"
      },
      "source": [
        "# Predicting Financial Time Series Data with Machine Learning\n",
        "\n",
        "This is a sample that predicts future prices from past price movements.\n",
        "Here we implement it with EUR/USD rate as an example, but you can convert it to stock price by editing the symbol."
      ]
    },
    {
      "cell_type": "markdown",
      "metadata": {
        "id": "_UhIxU-5_ICr",
        "colab_type": "text"
      },
      "source": [
        "*** disclaimer\n",
        "The information and materails provided here are not intended to be and do not constitute financial advice, investment advice, trading advice or any other advice or recommendation of any sort."
      ]
    },
    {
      "cell_type": "code",
      "metadata": {
        "id": "BO4-kaBM_ICu",
        "colab_type": "code",
        "colab": {}
      },
      "source": [
        "import datetime\n",
        "import numpy as np\n",
        "import pandas as pd\n",
        "# from matplotlib.finance import quotes_historical_yahoo_ochl"
      ],
      "execution_count": 0,
      "outputs": []
    },
    {
      "cell_type": "code",
      "metadata": {
        "id": "Tkn-GGJYb0Je",
        "colab_type": "code",
        "colab": {}
      },
      "source": [
        "#from mplfinance import candlestick_ohlc\n",
        "import matplotlib.pyplot as plt\n",
        "import seaborn as sns\n",
        "from IPython.core.display import display\n",
        "%matplotlib inline"
      ],
      "execution_count": 0,
      "outputs": []
    },
    {
      "cell_type": "code",
      "metadata": {
        "id": "9rDmnk8h_ICy",
        "colab_type": "code",
        "colab": {}
      },
      "source": [
        "import pandas as pd\n",
        "import pandas_datareader as pdr\n",
        "import datetime as dt\n",
        "\n",
        "start = dt.datetime(2008,1,1)\n",
        "end = dt.datetime(2016,12,31)\n",
        "\n",
        "df = pdr.DataReader('TSLA', 'yahoo', start, end)\n",
        "# print(df.head())"
      ],
      "execution_count": 0,
      "outputs": []
    },
    {
      "cell_type": "code",
      "metadata": {
        "id": "NqkpIvib_IC2",
        "colab_type": "code",
        "colab": {
          "base_uri": "https://localhost:8080/",
          "height": 235
        },
        "outputId": "0e83816c-ff6c-4129-d2f3-53fddd7ef7db"
      },
      "source": [
        "df.tail()"
      ],
      "execution_count": 19,
      "outputs": [
        {
          "output_type": "execute_result",
          "data": {
            "text/html": [
              "<div>\n",
              "<style scoped>\n",
              "    .dataframe tbody tr th:only-of-type {\n",
              "        vertical-align: middle;\n",
              "    }\n",
              "\n",
              "    .dataframe tbody tr th {\n",
              "        vertical-align: top;\n",
              "    }\n",
              "\n",
              "    .dataframe thead th {\n",
              "        text-align: right;\n",
              "    }\n",
              "</style>\n",
              "<table border=\"1\" class=\"dataframe\">\n",
              "  <thead>\n",
              "    <tr style=\"text-align: right;\">\n",
              "      <th></th>\n",
              "      <th>High</th>\n",
              "      <th>Low</th>\n",
              "      <th>Open</th>\n",
              "      <th>Close</th>\n",
              "      <th>Volume</th>\n",
              "      <th>Adj Close</th>\n",
              "    </tr>\n",
              "    <tr>\n",
              "      <th>Date</th>\n",
              "      <th></th>\n",
              "      <th></th>\n",
              "      <th></th>\n",
              "      <th></th>\n",
              "      <th></th>\n",
              "      <th></th>\n",
              "    </tr>\n",
              "  </thead>\n",
              "  <tbody>\n",
              "    <tr>\n",
              "      <th>2016-12-23</th>\n",
              "      <td>213.449997</td>\n",
              "      <td>207.710007</td>\n",
              "      <td>208.000000</td>\n",
              "      <td>213.339996</td>\n",
              "      <td>4670500</td>\n",
              "      <td>213.339996</td>\n",
              "    </tr>\n",
              "    <tr>\n",
              "      <th>2016-12-27</th>\n",
              "      <td>222.250000</td>\n",
              "      <td>214.419998</td>\n",
              "      <td>214.880005</td>\n",
              "      <td>219.529999</td>\n",
              "      <td>5915700</td>\n",
              "      <td>219.529999</td>\n",
              "    </tr>\n",
              "    <tr>\n",
              "      <th>2016-12-28</th>\n",
              "      <td>223.800003</td>\n",
              "      <td>217.199997</td>\n",
              "      <td>221.529999</td>\n",
              "      <td>219.740005</td>\n",
              "      <td>3782500</td>\n",
              "      <td>219.740005</td>\n",
              "    </tr>\n",
              "    <tr>\n",
              "      <th>2016-12-29</th>\n",
              "      <td>219.199997</td>\n",
              "      <td>214.119995</td>\n",
              "      <td>218.559998</td>\n",
              "      <td>214.679993</td>\n",
              "      <td>4045000</td>\n",
              "      <td>214.679993</td>\n",
              "    </tr>\n",
              "    <tr>\n",
              "      <th>2016-12-30</th>\n",
              "      <td>217.500000</td>\n",
              "      <td>211.679993</td>\n",
              "      <td>216.300003</td>\n",
              "      <td>213.690002</td>\n",
              "      <td>4642600</td>\n",
              "      <td>213.690002</td>\n",
              "    </tr>\n",
              "  </tbody>\n",
              "</table>\n",
              "</div>"
            ],
            "text/plain": [
              "                  High         Low        Open       Close   Volume   Adj Close\n",
              "Date                                                                           \n",
              "2016-12-23  213.449997  207.710007  208.000000  213.339996  4670500  213.339996\n",
              "2016-12-27  222.250000  214.419998  214.880005  219.529999  5915700  219.529999\n",
              "2016-12-28  223.800003  217.199997  221.529999  219.740005  3782500  219.740005\n",
              "2016-12-29  219.199997  214.119995  218.559998  214.679993  4045000  214.679993\n",
              "2016-12-30  217.500000  211.679993  216.300003  213.690002  4642600  213.690002"
            ]
          },
          "metadata": {
            "tags": []
          },
          "execution_count": 19
        }
      ]
    },
    {
      "cell_type": "code",
      "metadata": {
        "id": "fRCScqo8_IC5",
        "colab_type": "code",
        "colab": {}
      },
      "source": [
        "df.rename(columns={'Adj Close':'aclose', 'High':'high','Low':'low','Open':'open','Close':'close'},\n",
        "         inplace=True)"
      ],
      "execution_count": 0,
      "outputs": []
    },
    {
      "cell_type": "code",
      "metadata": {
        "id": "UGpxhrie_IC-",
        "colab_type": "code",
        "outputId": "5b898998-2d37-40a8-d42f-0ed2ebd319bb",
        "colab": {
          "base_uri": "https://localhost:8080/",
          "height": 286
        }
      },
      "source": [
        "df['close'].plot(figsize=(10,4))"
      ],
      "execution_count": 21,
      "outputs": [
        {
          "output_type": "execute_result",
          "data": {
            "text/plain": [
              "<matplotlib.axes._subplots.AxesSubplot at 0x7f88ff9adb00>"
            ]
          },
          "metadata": {
            "tags": []
          },
          "execution_count": 21
        },
        {
          "output_type": "display_data",
          "data": {
            "image/png": "[encoded data removed]",
            "text/plain": [
              "<Figure size 720x288 with 1 Axes>"
            ]
          },
          "metadata": {
            "tags": []
          }
        }
      ]
    },
    {
      "cell_type": "code",
      "metadata": {
        "id": "V9tMCXts_IDC",
        "colab_type": "code",
        "outputId": "7e7d1a9d-72bc-4902-ba34-71e284f080a6",
        "colab": {
          "base_uri": "https://localhost:8080/",
          "height": 487
        }
      },
      "source": [
        "# Normalize aclose value\n",
        "# We use this value to train model\n",
        "df['return'] = df['aclose'] - df['aclose'].shift(1)\n",
        "df['return'].plot()\n",
        "\n",
        "# Make label, 1 as rising price, 0 as falling price\n",
        "df['label'] = df['return'].shift(-1)\n",
        "df['label'] = df['label'].apply(lambda x: 1 if x>0.0 else 0)\n",
        "# df.dropna(inplace=True)\n",
        "df.tail()"
      ],
      "execution_count": 23,
      "outputs": [
        {
          "output_type": "execute_result",
          "data": {
            "text/html": [
              "<div>\n",
              "<style scoped>\n",
              "    .dataframe tbody tr th:only-of-type {\n",
              "        vertical-align: middle;\n",
              "    }\n",
              "\n",
              "    .dataframe tbody tr th {\n",
              "        vertical-align: top;\n",
              "    }\n",
              "\n",
              "    .dataframe thead th {\n",
              "        text-align: right;\n",
              "    }\n",
              "</style>\n",
              "<table border=\"1\" class=\"dataframe\">\n",
              "  <thead>\n",
              "    <tr style=\"text-align: right;\">\n",
              "      <th></th>\n",
              "      <th>high</th>\n",
              "      <th>low</th>\n",
              "      <th>open</th>\n",
              "      <th>close</th>\n",
              "      <th>Volume</th>\n",
              "      <th>aclose</th>\n",
              "      <th>return</th>\n",
              "      <th>label</th>\n",
              "    </tr>\n",
              "    <tr>\n",
              "      <th>Date</th>\n",
              "      <th></th>\n",
              "      <th></th>\n",
              "      <th></th>\n",
              "      <th></th>\n",
              "      <th></th>\n",
              "      <th></th>\n",
              "      <th></th>\n",
              "      <th></th>\n",
              "    </tr>\n",
              "  </thead>\n",
              "  <tbody>\n",
              "    <tr>\n",
              "      <th>2016-12-23</th>\n",
              "      <td>213.449997</td>\n",
              "      <td>207.710007</td>\n",
              "      <td>208.000000</td>\n",
              "      <td>213.339996</td>\n",
              "      <td>4670500</td>\n",
              "      <td>213.339996</td>\n",
              "      <td>4.889999</td>\n",
              "      <td>1</td>\n",
              "    </tr>\n",
              "    <tr>\n",
              "      <th>2016-12-27</th>\n",
              "      <td>222.250000</td>\n",
              "      <td>214.419998</td>\n",
              "      <td>214.880005</td>\n",
              "      <td>219.529999</td>\n",
              "      <td>5915700</td>\n",
              "      <td>219.529999</td>\n",
              "      <td>6.190002</td>\n",
              "      <td>1</td>\n",
              "    </tr>\n",
              "    <tr>\n",
              "      <th>2016-12-28</th>\n",
              "      <td>223.800003</td>\n",
              "      <td>217.199997</td>\n",
              "      <td>221.529999</td>\n",
              "      <td>219.740005</td>\n",
              "      <td>3782500</td>\n",
              "      <td>219.740005</td>\n",
              "      <td>0.210007</td>\n",
              "      <td>0</td>\n",
              "    </tr>\n",
              "    <tr>\n",
              "      <th>2016-12-29</th>\n",
              "      <td>219.199997</td>\n",
              "      <td>214.119995</td>\n",
              "      <td>218.559998</td>\n",
              "      <td>214.679993</td>\n",
              "      <td>4045000</td>\n",
              "      <td>214.679993</td>\n",
              "      <td>-5.060013</td>\n",
              "      <td>0</td>\n",
              "    </tr>\n",
              "    <tr>\n",
              "      <th>2016-12-30</th>\n",
              "      <td>217.500000</td>\n",
              "      <td>211.679993</td>\n",
              "      <td>216.300003</td>\n",
              "      <td>213.690002</td>\n",
              "      <td>4642600</td>\n",
              "      <td>213.690002</td>\n",
              "      <td>-0.989990</td>\n",
              "      <td>0</td>\n",
              "    </tr>\n",
              "  </tbody>\n",
              "</table>\n",
              "</div>"
            ],
            "text/plain": [
              "                  high         low        open  ...      aclose    return  label\n",
              "Date                                            ...                             \n",
              "2016-12-23  213.449997  207.710007  208.000000  ...  213.339996  4.889999      1\n",
              "2016-12-27  222.250000  214.419998  214.880005  ...  219.529999  6.190002      1\n",
              "2016-12-28  223.800003  217.199997  221.529999  ...  219.740005  0.210007      0\n",
              "2016-12-29  219.199997  214.119995  218.559998  ...  214.679993 -5.060013      0\n",
              "2016-12-30  217.500000  211.679993  216.300003  ...  213.690002 -0.989990      0\n",
              "\n",
              "[5 rows x 8 columns]"
            ]
          },
          "metadata": {
            "tags": []
          },
          "execution_count": 23
        },
        {
          "output_type": "display_data",
          "data": {
            "image/png": "[encoded data removed]",
            "text/plain": [
              "<Figure size 432x288 with 1 Axes>"
            ]
          },
          "metadata": {
            "tags": []
          }
        }
      ]
    },
    {
      "cell_type": "code",
      "metadata": {
        "scrolled": false,
        "id": "MKv8uERt_IDG",
        "colab_type": "code",
        "outputId": "1aa0866d-4f64-4ea6-99e5-073fcc8f8cb1",
        "colab": {
          "base_uri": "https://localhost:8080/",
          "height": 221
        }
      },
      "source": [
        "# Make training dataset\n",
        "n_features = 60 # number of features\n",
        "\n",
        "train_x = np.array([]).reshape([-1,n_features])\n",
        "train_y = np.array([]).reshape([-1,1])\n",
        "for index, row in df.iterrows():\n",
        "    i = df.index.get_loc(index)\n",
        "    if i<n_features:\n",
        "        continue\n",
        "    _x = np.array(df[i-n_features+1:i+1]['return']).T.reshape([1, -1])\n",
        "    _y = df.ix[i]['label']\n",
        "    train_x = np.vstack((train_x, _x))\n",
        "    train_y = np.vstack((train_y, _y))\n",
        "train_y = train_y.reshape([-1])\n",
        "print(train_x.shape)\n",
        "print(train_y.shape)\n",
        "print('%% of Class0 : %f' % (np.count_nonzero(train_y == 0)/float(len(train_y))))\n",
        "print('%% of Class1 : %f' % (np.count_nonzero(train_y == 1)/float(len(train_y))))"
      ],
      "execution_count": 28,
      "outputs": [
        {
          "output_type": "stream",
          "text": [
            "/usr/local/lib/python3.6/dist-packages/ipykernel_launcher.py:10: FutureWarning: \n",
            ".ix is deprecated. Please use\n",
            ".loc for label based indexing or\n",
            ".iloc for positional indexing\n",
            "\n",
            "See the documentation here:\n",
            "http://pandas.pydata.org/pandas-docs/stable/user_guide/indexing.html#ix-indexer-is-deprecated\n",
            "  # Remove the CWD from sys.path while we load stuff.\n"
          ],
          "name": "stderr"
        },
        {
          "output_type": "stream",
          "text": [
            "(1580, 60)\n",
            "(1580,)\n",
            "% of Class0 : 0.487342\n",
            "% of Class1 : 0.512658\n"
          ],
          "name": "stdout"
        }
      ]
    },
    {
      "cell_type": "code",
      "metadata": {
        "id": "dslE5eyP_IDJ",
        "colab_type": "code",
        "colab": {}
      },
      "source": [
        "from sklearn.metrics import precision_score, accuracy_score, recall_score, f1_score, confusion_matrix\n",
        "def model_scoring(y_test, y_pred):\n",
        "    accuracy = accuracy_score(y_test, y_pred)\n",
        "    precision = precision_score(y_test, y_pred)\n",
        "    recall = recall_score(y_test, y_pred)\n",
        "    f1 = f1_score(y_test, y_pred)\n",
        "    print(\"======================================\")\n",
        "    print(\"======Model Performance===============\")\n",
        "\n",
        "    print(\"the accuracy is: \", accuracy)\n",
        "    print(\"the precision is：\",precision)\n",
        "    print(\"the recall is: \", recall)\n",
        "    print(\"the f1 score is: \", f1)\n",
        "    print(\"confution matrix: \\n\", confusion_matrix(y_test, y_pred))"
      ],
      "execution_count": 0,
      "outputs": []
    },
    {
      "cell_type": "code",
      "metadata": {
        "id": "0juCb5Ff_IDN",
        "colab_type": "code",
        "outputId": "fc7c5e46-1a7f-46ef-8b2b-413dce4fddd0",
        "colab": {
          "base_uri": "https://localhost:8080/",
          "height": 170
        }
      },
      "source": [
        "import xgboost as xgb\n",
        "from sklearn.model_selection import train_test_split\n",
        "X_train, X_test, y_train, y_test = train_test_split(train_x, train_y, test_size=0.2, random_state=42)\n",
        "xgb_clf = xgb.XGBClassifier()\n",
        "xgb_clf.fit(X_train, y_train)\n",
        "y_pred = xgb_clf.predict(X_test)\n",
        "model_scoring(y_test, y_pred)"
      ],
      "execution_count": 30,
      "outputs": [
        {
          "output_type": "stream",
          "text": [
            "======================================\n",
            "======Model Performance===============\n",
            "the accuracy is:  0.5316455696202531\n",
            "the precision is： 0.5280898876404494\n",
            "the recall is:  0.5949367088607594\n",
            "the f1 score is:  0.5595238095238095\n",
            "confution matrix: \n",
            " [[74 84]\n",
            " [64 94]]\n"
          ],
          "name": "stdout"
        }
      ]
    },
    {
      "cell_type": "code",
      "metadata": {
        "id": "YgzVPUun_IDT",
        "colab_type": "code",
        "outputId": "5468eeab-a622-4f96-e260-ae7517a7168d",
        "colab": {
          "base_uri": "https://localhost:8080/",
          "height": 482
        }
      },
      "source": [
        "# Calculate equity..\n",
        "initial_cash = 2400\n",
        "contracts  = 100\n",
        "commission = 0.0\n",
        "\n",
        "df_trade = pd.DataFrame(X_test[:,-1], columns=['return'])\n",
        "df_trade['label']  = y_test\n",
        "df_trade['pred']   = y_pred\n",
        "\n",
        "df_trade['won']    = df_trade['label'] == df_trade['pred']\n",
        "df_trade.drop(df_trade.index[len(df_trade)-1], inplace=True)\n",
        "\n",
        "def calc_profit(row):\n",
        "    if row['won']:\n",
        "        return abs(row['return'])*contracts - commission\n",
        "    else:\n",
        "        return -abs(row['return'])*contracts - commission\n",
        "\n",
        "df_trade['pnl'] = df_trade.apply(lambda row: calc_profit(row), axis=1)\n",
        "df_trade['equity'] = df_trade['pnl'].cumsum()\n",
        "\n",
        "display(df_trade.tail())\n",
        "df_trade.plot(y='equity', figsize=(10,4), title='Backtest with $10000 initial capital')\n",
        "plt.xlabel('Trades')\n",
        "plt.ylabel('Equity (USD)')\n",
        "for r in df_trade.iterrows():\n",
        "    if r[1]['won']:\n",
        "        plt.axvline(x=r[0], linewidth=0.5, alpha=0.8, color='g')\n",
        "    else:\n",
        "        plt.axvline(x=r[0], linewidth=0.5, alpha=0.8, color='r')"
      ],
      "execution_count": 36,
      "outputs": [
        {
          "output_type": "display_data",
          "data": {
            "text/html": [
              "<div>\n",
              "<style scoped>\n",
              "    .dataframe tbody tr th:only-of-type {\n",
              "        vertical-align: middle;\n",
              "    }\n",
              "\n",
              "    .dataframe tbody tr th {\n",
              "        vertical-align: top;\n",
              "    }\n",
              "\n",
              "    .dataframe thead th {\n",
              "        text-align: right;\n",
              "    }\n",
              "</style>\n",
              "<table border=\"1\" class=\"dataframe\">\n",
              "  <thead>\n",
              "    <tr style=\"text-align: right;\">\n",
              "      <th></th>\n",
              "      <th>return</th>\n",
              "      <th>label</th>\n",
              "      <th>pred</th>\n",
              "      <th>won</th>\n",
              "      <th>pnl</th>\n",
              "      <th>equity</th>\n",
              "    </tr>\n",
              "  </thead>\n",
              "  <tbody>\n",
              "    <tr>\n",
              "      <th>310</th>\n",
              "      <td>0.309998</td>\n",
              "      <td>1.0</td>\n",
              "      <td>1.0</td>\n",
              "      <td>True</td>\n",
              "      <td>30.999756</td>\n",
              "      <td>7125.011063</td>\n",
              "    </tr>\n",
              "    <tr>\n",
              "      <th>311</th>\n",
              "      <td>7.250000</td>\n",
              "      <td>1.0</td>\n",
              "      <td>0.0</td>\n",
              "      <td>False</td>\n",
              "      <td>-725.000000</td>\n",
              "      <td>6400.011063</td>\n",
              "    </tr>\n",
              "    <tr>\n",
              "      <th>312</th>\n",
              "      <td>7.600006</td>\n",
              "      <td>0.0</td>\n",
              "      <td>1.0</td>\n",
              "      <td>False</td>\n",
              "      <td>-760.000610</td>\n",
              "      <td>5640.010452</td>\n",
              "    </tr>\n",
              "    <tr>\n",
              "      <th>313</th>\n",
              "      <td>-1.119995</td>\n",
              "      <td>0.0</td>\n",
              "      <td>1.0</td>\n",
              "      <td>False</td>\n",
              "      <td>-111.999512</td>\n",
              "      <td>5528.010941</td>\n",
              "    </tr>\n",
              "    <tr>\n",
              "      <th>314</th>\n",
              "      <td>9.950012</td>\n",
              "      <td>0.0</td>\n",
              "      <td>0.0</td>\n",
              "      <td>True</td>\n",
              "      <td>995.001221</td>\n",
              "      <td>6523.012161</td>\n",
              "    </tr>\n",
              "  </tbody>\n",
              "</table>\n",
              "</div>"
            ],
            "text/plain": [
              "       return  label  pred    won         pnl       equity\n",
              "310  0.309998    1.0   1.0   True   30.999756  7125.011063\n",
              "311  7.250000    1.0   0.0  False -725.000000  6400.011063\n",
              "312  7.600006    0.0   1.0  False -760.000610  5640.010452\n",
              "313 -1.119995    0.0   1.0  False -111.999512  5528.010941\n",
              "314  9.950012    0.0   0.0   True  995.001221  6523.012161"
            ]
          },
          "metadata": {
            "tags": []
          }
        },
        {
          "output_type": "display_data",
          "data": {
            "image/png": "[encoded data removed]",
            "text/plain": [
              "<Figure size 720x288 with 1 Axes>"
            ]
          },
          "metadata": {
            "tags": []
          }
        }
      ]
    },
    {
      "cell_type": "code",
      "metadata": {
        "id": "4HyJXSlH_IDX",
        "colab_type": "code",
        "outputId": "96ecb020-85c4-4ad4-f09b-9d98bfea0ca7",
        "colab": {
          "base_uri": "https://localhost:8080/",
          "height": 418
        }
      },
      "source": [
        "# Calculate summary of trades\n",
        "\n",
        "n_win_trades = float(df_trade[df_trade['pnl']>0.0]['pnl'].count())\n",
        "n_los_trades = float(df_trade[df_trade['pnl']<0.0]['pnl'].count())\n",
        "print(\"Net Profit            : $%.2f\" % df_trade.tail(1)['equity'])\n",
        "print(\"Number Winning Trades : %d\" % n_win_trades)\n",
        "print(\"Number Losing Trades  : %d\" % n_los_trades)\n",
        "print(\"Percent Profitable    : %.2f%%\" % (100*n_win_trades/(n_win_trades + n_los_trades)))\n",
        "print(\"Avg Win Trade         : $%.3f\" % df_trade[df_trade['pnl']>0.0]['pnl'].mean())\n",
        "print(\"Avg Los Trade         : $%.3f\" % df_trade[df_trade['pnl']<0.0]['pnl'].mean())\n",
        "print(\"Largest Win Trade     : $%.3f\" % df_trade[df_trade['pnl']>0.0]['pnl'].max())\n",
        "print(\"Largest Los Trade     : $%.3f\" % df_trade[df_trade['pnl']<0.0]['pnl'].min())\n",
        "# print(\"Profit Factor         : %.2f\" % abs(df_trade[df_trade['pnl']>0.0]['pnl'].sum()/df_trade[df_trade['pnl']<0.0]['pnl'].sum()))\n",
        "df_trade['pnl'].hist(bins=20)"
      ],
      "execution_count": 37,
      "outputs": [
        {
          "output_type": "stream",
          "text": [
            "Net Profit            : $6523.01\n",
            "Number Winning Trades : 166\n",
            "Number Losing Trades  : 147\n",
            "Percent Profitable    : 53.04%\n",
            "Avg Win Trade         : $281.675\n",
            "Avg Los Trade         : $-273.707\n",
            "Largest Win Trade     : $2564.999\n",
            "Largest Los Trade     : $-2534.001\n"
          ],
          "name": "stdout"
        },
        {
          "output_type": "execute_result",
          "data": {
            "text/plain": [
              "<matplotlib.axes._subplots.AxesSubplot at 0x7f88e8b00898>"
            ]
          },
          "metadata": {
            "tags": []
          },
          "execution_count": 37
        },
        {
          "output_type": "display_data",
          "data": {
            "image/png": "[encoded data removed]",
            "text/plain": [
              "<Figure size 432x288 with 1 Axes>"
            ]
          },
          "metadata": {
            "tags": []
          }
        }
      ]
    }
  ]
}