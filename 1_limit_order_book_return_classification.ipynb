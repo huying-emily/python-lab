{
  "nbformat": 4,
  "nbformat_minor": 0,
  "metadata": {
    "kernelspec": {
      "display_name": "Python 3",
      "language": "python",
      "name": "python3"
    },
    "language_info": {
      "codemirror_mode": {
        "name": "ipython",
        "version": 3
      },
      "file_extension": ".py",
      "mimetype": "text/x-python",
      "name": "python",
      "nbconvert_exporter": "python",
      "pygments_lexer": "ipython3",
      "version": "3.6.8"
    },
    "colab": {
      "name": "1 limit order book return classification.ipynb",
      "provenance": []
    }
  },
  "cells": [
    {
      "cell_type": "markdown",
      "metadata": {
        "id": "ifTKkpDk_F8g",
        "colab_type": "text"
      },
      "source": [
        "# Prediction of short-term mid-price movement direction based on LOB data"
      ]
    },
    {
      "cell_type": "markdown",
      "metadata": {
        "id": "dz8S_mDR_F8k",
        "colab_type": "text"
      },
      "source": [
        "*** Disclaimer\n",
        "The information and materails provided here are not intended to be and do not constitute financial advice, investment advice, trading advice or any other advice or recommendation of any sort."
      ]
    },
    {
      "cell_type": "markdown",
      "metadata": {
        "id": "AvTQzJ1y_F8l",
        "colab_type": "text"
      },
      "source": [
        "********\n",
        "Download the limit order book sample data from https://lobsterdata.com/info/DataSamples.php\n",
        "********"
      ]
    },
    {
      "cell_type": "code",
      "metadata": {
        "id": "XRyFc0Ob_cdA",
        "colab_type": "code",
        "outputId": "d3cd0edf-18d7-404e-e982-8d44f705630b",
        "colab": {
          "base_uri": "https://localhost:8080/",
          "height": 34
        }
      },
      "source": [
        "from google.colab import drive\n",
        "drive.mount('/content/drive')"
      ],
      "execution_count": 0,
      "outputs": [
        {
          "output_type": "stream",
          "text": [
            "Drive already mounted at /content/drive; to attempt to forcibly remount, call drive.mount(\"/content/drive\", force_remount=True).\n"
          ],
          "name": "stdout"
        }
      ]
    },
    {
      "cell_type": "code",
      "metadata": {
        "id": "OZKhlYk9AM4I",
        "colab_type": "code",
        "colab": {}
      },
      "source": [
        "import os as os\n",
        "import pandas as pd\n",
        "import numpy as np\n",
        "import matplotlib.pyplot as plt\n",
        "import datetime\n",
        "from collections import Counter\n",
        "from sklearn.model_selection import train_test_split\n",
        "from sklearn.preprocessing import StandardScaler\n",
        "\n",
        "### change the data path according where you store them \n",
        "os.chdir(\"/content/drive/My Drive/Colab Notebooks/session 2\")\n",
        "\n",
        "orderbook = \"GOOG_2012-06-21_34200000_57600000_orderbook_10.csv\"\n",
        "message = \"GOOG_2012-06-21_34200000_57600000_message_10.csv\"\n"
      ],
      "execution_count": 0,
      "outputs": []
    },
    {
      "cell_type": "code",
      "metadata": {
        "id": "7dZaEJhUAeUi",
        "colab_type": "code",
        "colab": {}
      },
      "source": [
        "num_levels = 10\n",
        "\n",
        "header_list = []\n",
        "for i in range(num_levels):\n",
        "    header_list = header_list + [\"Pa%d\"%(i+1),\"Va%d\"%(i+1),\"Pb%d\"%(i+1),\"Vb%d\"%(i+1)]\n",
        "df_orderbook = pd.read_csv(orderbook,header=None,names=header_list)\n",
        "\n",
        "df_message = pd.read_csv(message,usecols = [0,1,3,4,5], names=['time', 'type','size','price','direction'])\n",
        "df_message.index = pd.Timestamp(datetime.date.today()) + pd.TimedeltaIndex(df_message.time, unit='s')\n",
        "df_orderbook.index = df_message.index"
      ],
      "execution_count": 0,
      "outputs": []
    },
    {
      "cell_type": "code",
      "metadata": {
        "id": "HLYDHDOF6Cz8",
        "colab_type": "code",
        "outputId": "e2c3e280-1007-4ef6-c801-c21efdd403bf",
        "colab": {
          "base_uri": "https://localhost:8080/",
          "height": 204
        }
      },
      "source": [
        "df_message.head()"
      ],
      "execution_count": 0,
      "outputs": [
        {
          "output_type": "execute_result",
          "data": {
            "text/html": [
              "<div>\n",
              "<style scoped>\n",
              "    .dataframe tbody tr th:only-of-type {\n",
              "        vertical-align: middle;\n",
              "    }\n",
              "\n",
              "    .dataframe tbody tr th {\n",
              "        vertical-align: top;\n",
              "    }\n",
              "\n",
              "    .dataframe thead th {\n",
              "        text-align: right;\n",
              "    }\n",
              "</style>\n",
              "<table border=\"1\" class=\"dataframe\">\n",
              "  <thead>\n",
              "    <tr style=\"text-align: right;\">\n",
              "      <th></th>\n",
              "      <th>time</th>\n",
              "      <th>type</th>\n",
              "      <th>size</th>\n",
              "      <th>price</th>\n",
              "      <th>direction</th>\n",
              "    </tr>\n",
              "  </thead>\n",
              "  <tbody>\n",
              "    <tr>\n",
              "      <th>2020-02-10 09:30:00.015105074</th>\n",
              "      <td>34200.015105</td>\n",
              "      <td>4</td>\n",
              "      <td>4</td>\n",
              "      <td>5794000</td>\n",
              "      <td>1</td>\n",
              "    </tr>\n",
              "    <tr>\n",
              "      <th>2020-02-10 09:30:00.059901970</th>\n",
              "      <td>34200.059902</td>\n",
              "      <td>4</td>\n",
              "      <td>300</td>\n",
              "      <td>5794000</td>\n",
              "      <td>1</td>\n",
              "    </tr>\n",
              "    <tr>\n",
              "      <th>2020-02-10 09:30:00.113246707</th>\n",
              "      <td>34200.113247</td>\n",
              "      <td>5</td>\n",
              "      <td>1</td>\n",
              "      <td>5795100</td>\n",
              "      <td>1</td>\n",
              "    </tr>\n",
              "    <tr>\n",
              "      <th>2020-02-10 09:30:00.113246707</th>\n",
              "      <td>34200.113247</td>\n",
              "      <td>5</td>\n",
              "      <td>1</td>\n",
              "      <td>5795000</td>\n",
              "      <td>1</td>\n",
              "    </tr>\n",
              "    <tr>\n",
              "      <th>2020-02-10 09:30:00.113246707</th>\n",
              "      <td>34200.113247</td>\n",
              "      <td>5</td>\n",
              "      <td>1</td>\n",
              "      <td>5794900</td>\n",
              "      <td>1</td>\n",
              "    </tr>\n",
              "  </tbody>\n",
              "</table>\n",
              "</div>"
            ],
            "text/plain": [
              "                                       time  type  size    price  direction\n",
              "2020-02-10 09:30:00.015105074  34200.015105     4     4  5794000          1\n",
              "2020-02-10 09:30:00.059901970  34200.059902     4   300  5794000          1\n",
              "2020-02-10 09:30:00.113246707  34200.113247     5     1  5795100          1\n",
              "2020-02-10 09:30:00.113246707  34200.113247     5     1  5795000          1\n",
              "2020-02-10 09:30:00.113246707  34200.113247     5     1  5794900          1"
            ]
          },
          "metadata": {
            "tags": []
          },
          "execution_count": 32
        }
      ]
    },
    {
      "cell_type": "code",
      "metadata": {
        "id": "UemNJ3rkOMM8",
        "colab_type": "code",
        "colab": {}
      },
      "source": [
        "#binary function\n",
        "def labelling(a):\n",
        "    if a > 0:\n",
        "        b = 1\n",
        "    else:\n",
        "        b= 0\n",
        "    return b"
      ],
      "execution_count": 0,
      "outputs": []
    },
    {
      "cell_type": "code",
      "metadata": {
        "id": "mgnFibviOTmx",
        "colab_type": "code",
        "colab": {}
      },
      "source": [
        "# Spreads and mid-prices\n",
        "def feature_v2(num_levels,df): # 20\n",
        "    for i in range(1,num_levels+1):\n",
        "        df[\"spread%d\"%(i)] = df[\"Pa%d\"%(i)] - df[\"Pb%d\"%(i)]\n",
        "        df[\"midprice%d\"%(i)] = (df[\"Pa%d\"%(i)] + df[\"Pb%d\"%(i)])/2\n",
        "    return df\n",
        "\n",
        "def feature_v3(num_levels,df): # 20 - 2\n",
        "    for i in range(1, num_levels):\n",
        "        df[\"PA_diff%d\"%(i)] = df[\"Pa%d\"%(i+1)] - df[\"Pa%d\"%(i)]\n",
        "        df[\"PB_diff%d\"%(i)] = df[\"Pb%d\"%(i)] - df[\"Pb%d\"%(i+1)]\n",
        "    return df\n",
        "\n",
        "def feature_v4(num_levels,df): # 4\n",
        "    lst = [\"Pa%d\"%(i+1) for i in range(num_levels)]\n",
        "    df[\"Pa_mean\"] = df[df.columns.intersection(lst)].sum(axis=1)    \n",
        "    \n",
        "    lst = [\"Pb%d\"%(i+1) for i in range(num_levels)]\n",
        "    df[\"Pb_mean\"] = df[df.columns.intersection(lst)].sum(axis=1)\n",
        "    \n",
        "    lst = [\"Va%d\"%(i+1) for i in range(num_levels)]\n",
        "    df[\"Va_mean\"] = df[df.columns.intersection(lst)].sum(axis=1)\n",
        "    \n",
        "    lst = [\"Vb%d\"%(i+1) for i in range(num_levels)]\n",
        "    df[\"Vb_mean\"] = df[df.columns.intersection(lst)].sum(axis=1)\n",
        "    return df\n",
        "\n",
        "def feature_v5(num_levels,df): # 20\n",
        "    for i in range(num_levels): #\n",
        "        df[\"pri_accum_diff%d\"%(i+1)] = 0\n",
        "        df[\"vol_accum_diff%d\"%(i+1)] = 0\n",
        "        for k in range(i):\n",
        "            df[\"pri_accum_diff%d\"%(i+1)] += (df[\"Pa%d\"%(k+1)] - df[\"Pb%d\"%(k+1)])\n",
        "            df[\"vol_accum_diff%d\"%(i+1)] += (df[\"Va%d\"%(i+1)] - df[\"Vb%d\"%(i+1)])\n",
        "    return df\n",
        "\n",
        "def normalize_input(X_train, X_test):\n",
        "    scaler = StandardScaler()\n",
        "    # Fit on training set only.\n",
        "    scaler.fit(X_train)\n",
        "    # Apply transform to both the training set and the test set.\n",
        "    X_train = scaler.transform(X_train)\n",
        "    X_test = scaler.transform(X_test)\n",
        "    return X_train, X_test"
      ],
      "execution_count": 0,
      "outputs": []
    },
    {
      "cell_type": "code",
      "metadata": {
        "id": "z0biORXK_F8m",
        "colab_type": "code",
        "colab": {}
      },
      "source": [
        "df_orderbook = feature_v2(num_levels,df_orderbook)\n",
        "df_orderbook = feature_v3(num_levels,df_orderbook)\n",
        "df_orderbook = feature_v4(num_levels,df_orderbook)\n",
        "df_orderbook = feature_v5(num_levels,df_orderbook)\n",
        "\n",
        "\n",
        "\n",
        "from sklearn.metrics import precision_score, accuracy_score, recall_score, f1_score, confusion_matrix\n",
        "def model_scoring(y_test, y_pred):\n",
        "    accuracy = accuracy_score(y_test, y_pred)\n",
        "    precision = precision_score(y_test, y_pred)\n",
        "    recall = recall_score(y_test, y_pred)\n",
        "    f1 = f1_score(y_test, y_pred)\n",
        "    print(\"======================================\")\n",
        "    print(\"======Model Performance===============\")\n",
        "\n",
        "    print(\"the accuracy is: \", accuracy)\n",
        "    print(\"the precision is：\",precision)\n",
        "    print(\"the recall is: \", recall)\n",
        "    print(\"the f1 score is: \", f1)\n",
        "    print(\"confution matrix: \\n\", confusion_matrix(y_test, y_pred))\n",
        "    \n",
        "def split_sequence(X_sequence, y_sequence, n_steps):\n",
        "    X, y = list(), list()\n",
        "    for i in range(0, len(X_sequence)-n_steps+1):\n",
        "        seq_x, seq_y = X_sequence[i: i+n_steps], y_sequence[i + n_steps - 1]\n",
        "        X.append(seq_x)\n",
        "        y.append(seq_y)\n",
        "    return np.array(X), np.array(y)\n",
        "\n",
        "####################################################################\n",
        "####################################################################\n",
        "\n",
        "df_orderbook1s = df_orderbook.resample('1S').first()\n",
        "df_orderbook1s[\"price_10min\"] = df_orderbook1s['midprice1'].shift(-600)\n",
        "df_orderbook1s.dropna(inplace=True)\n",
        "df_orderbook1s[\"price_change\"] = df_orderbook1s[\"price_10min\"] - df_orderbook1s['midprice1']\n",
        "\n",
        "X = df_orderbook1s.drop(['price_10min', 'price_change'], axis=1).values\n",
        "y = np.array(list(map(labelling, df_orderbook1s[\"price_change\"])))\n",
        "####################################################################\n",
        "####################################################################"
      ],
      "execution_count": 0,
      "outputs": []
    },
    {
      "cell_type": "code",
      "metadata": {
        "id": "LjL3xlDT_F8r",
        "colab_type": "code",
        "outputId": "c6c7a8ca-78d5-42d6-fcaf-a96a8797c796",
        "colab": {
          "base_uri": "https://localhost:8080/",
          "height": 34
        }
      },
      "source": [
        "X.shape"
      ],
      "execution_count": 0,
      "outputs": [
        {
          "output_type": "execute_result",
          "data": {
            "text/plain": [
              "(10743, 102)"
            ]
          },
          "metadata": {
            "tags": []
          },
          "execution_count": 25
        }
      ]
    },
    {
      "cell_type": "code",
      "metadata": {
        "scrolled": true,
        "id": "xXegpqV1_F81",
        "colab_type": "code",
        "outputId": "9e02c884-aa19-4b8a-d2b4-ee4fefbd8636",
        "colab": {
          "base_uri": "https://localhost:8080/",
          "height": 34
        }
      },
      "source": [
        "y.shape"
      ],
      "execution_count": 0,
      "outputs": [
        {
          "output_type": "execute_result",
          "data": {
            "text/plain": [
              "(10743,)"
            ]
          },
          "metadata": {
            "tags": []
          },
          "execution_count": 26
        }
      ]
    },
    {
      "cell_type": "code",
      "metadata": {
        "id": "aHHjDBu5_F85",
        "colab_type": "code",
        "outputId": "1cfda752-7d41-4607-fb11-f19b73226bb7",
        "colab": {
          "base_uri": "https://localhost:8080/",
          "height": 204
        }
      },
      "source": [
        "# logistic regression\n",
        "from sklearn.linear_model import LogisticRegression\n",
        "X_train, X_test, y_train, y_test = train_test_split(X, y, test_size=0.3, random_state=42)\n",
        "X_train, X_test = normalize_input(X_train, X_test)\n",
        "clf = LogisticRegression(random_state=0, \n",
        "                         penalty='l2',\n",
        "                         solver='lbfgs',\n",
        "                         max_iter = 100000,\n",
        "                         multi_class='ovr').fit(X_train, y_train)\n",
        "print(\"training score.\", clf.score(X_train, y_train))\n",
        "print(\"testing score.\", clf.score(X_test, y_test))\n",
        "y_pred = clf.predict(X_test)\n",
        "model_scoring(y_test, y_pred)"
      ],
      "execution_count": 0,
      "outputs": [
        {
          "output_type": "stream",
          "text": [
            "training score. 0.686968085106383\n",
            "testing score. 0.6928327645051194\n",
            "======================================\n",
            "======Model Performance===============\n",
            "the accuracy is:  0.6928327645051194\n",
            "the precision is： 0.5833333333333334\n",
            "the recall is:  0.10294117647058823\n",
            "the f1 score is:  0.17500000000000002\n",
            "confution matrix: \n",
            " [[2128   75]\n",
            " [ 915  105]]\n"
          ],
          "name": "stdout"
        }
      ]
    },
    {
      "cell_type": "code",
      "metadata": {
        "scrolled": true,
        "id": "mwSlU8uf_F88",
        "colab_type": "code",
        "outputId": "5cd84d21-40e5-4444-b567-ee50777a25d0",
        "colab": {
          "base_uri": "https://localhost:8080/",
          "height": 170
        }
      },
      "source": [
        "############################\n",
        " ######### XGBoost ########\n",
        "############################\n",
        "import xgboost as xgb\n",
        "X_train, X_test, y_train, y_test = train_test_split(X, y, test_size=0.2, random_state=42)\n",
        "X_train, X_test = normalize_input(X_train, X_test)\n",
        "xgb_clf = xgb.XGBClassifier()\n",
        "xgb_clf.fit(X_train, y_train)\n",
        "y_pred = xgb_clf.predict(X_test)\n",
        "model_scoring(y_test, y_pred)"
      ],
      "execution_count": 0,
      "outputs": [
        {
          "output_type": "stream",
          "text": [
            "======================================\n",
            "======Model Performance===============\n",
            "the accuracy is:  0.8245695672405771\n",
            "the precision is： 0.8057692307692308\n",
            "the recall is:  0.6028776978417266\n",
            "the f1 score is:  0.6897119341563785\n",
            "confution matrix: \n",
            " [[1353  101]\n",
            " [ 276  419]]\n"
          ],
          "name": "stdout"
        }
      ]
    }
  ]
}